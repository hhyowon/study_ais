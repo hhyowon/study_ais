{
 "cells": [
  {
   "cell_type": "markdown",
   "id": "ca3a6375-ff4a-4af4-9058-91adba2d91be",
   "metadata": {},
   "source": [
    "Quest\n",
    "- db_NHIS.NSC2_M20 in mongodb\n",
    "- 연속형 타입 3가지 선택(target, label), csv 저장\n",
    "- 전처리, 학습, 평가, 예측 과정 진행"
   ]
  },
  {
   "cell_type": "code",
   "execution_count": 1,
   "id": "3d10f446-f531-431a-8b21-2cf321c452a1",
   "metadata": {
    "tags": []
   },
   "outputs": [],
   "source": [
    "import pymongo as mg\n",
    "import pandas as pd "
   ]
  },
  {
   "cell_type": "code",
   "execution_count": 2,
   "id": "add1790d-9113-4641-baa8-a169844efb29",
   "metadata": {
    "tags": []
   },
   "outputs": [],
   "source": [
    "client = mg.MongoClient(host='mongodb://localhost:27017')"
   ]
  },
  {
   "cell_type": "code",
   "execution_count": 3,
   "id": "ea266793-27af-4482-9020-a7f1b3e4039f",
   "metadata": {
    "tags": []
   },
   "outputs": [],
   "source": [
    "database = client['db_NHIS'] #Database 선택"
   ]
  },
  {
   "cell_type": "code",
   "execution_count": 4,
   "id": "b9d63a06-fbf2-4240-b74a-10e25d9a9acb",
   "metadata": {
    "tags": []
   },
   "outputs": [],
   "source": [
    "collection = database['NSC2_M20'] # collection 선택"
   ]
  },
  {
   "cell_type": "code",
   "execution_count": 5,
   "id": "b9f4b266-e3da-411c-8da5-eb5a2301842f",
   "metadata": {
    "tags": []
   },
   "outputs": [],
   "source": [
    "cursor = collection.find({})"
   ]
  },
  {
   "cell_type": "code",
   "execution_count": 6,
   "id": "232be8bb-d8ad-4219-82bc-fa65287a130d",
   "metadata": {
    "tags": []
   },
   "outputs": [],
   "source": [
    "list_M20 = list(cursor) # casting"
   ]
  },
  {
   "cell_type": "code",
   "execution_count": 7,
   "id": "7a792a22-d8df-4657-834b-7ee1b4b34d82",
   "metadata": {
    "tags": []
   },
   "outputs": [],
   "source": [
    "df_M20 = pd.DataFrame(list_M20)"
   ]
  },
  {
   "cell_type": "code",
   "execution_count": 8,
   "id": "a4464605-1db9-497d-84e5-7f619b92b338",
   "metadata": {
    "tags": []
   },
   "outputs": [
    {
     "data": {
      "text/html": [
       "<div>\n",
       "<style scoped>\n",
       "    .dataframe tbody tr th:only-of-type {\n",
       "        vertical-align: middle;\n",
       "    }\n",
       "\n",
       "    .dataframe tbody tr th {\n",
       "        vertical-align: top;\n",
       "    }\n",
       "\n",
       "    .dataframe thead th {\n",
       "        text-align: right;\n",
       "    }\n",
       "</style>\n",
       "<table border=\"1\" class=\"dataframe\">\n",
       "  <thead>\n",
       "    <tr style=\"text-align: right;\">\n",
       "      <th></th>\n",
       "      <th>_id</th>\n",
       "      <th>RN_INDI</th>\n",
       "      <th>RN_KEY</th>\n",
       "      <th>RN_INST</th>\n",
       "      <th>MDCARE_STRT_DT</th>\n",
       "      <th>FORM_CD</th>\n",
       "      <th>MCARE_SUBJ_CD</th>\n",
       "      <th>SICK_SYM1</th>\n",
       "      <th>OFIJ_TYPE</th>\n",
       "      <th>OPRTN_YN</th>\n",
       "      <th>...</th>\n",
       "      <th>MCARE_RSLT_TYPE</th>\n",
       "      <th>EDC_ADD_RT</th>\n",
       "      <th>ED_RC_TOT_AMT</th>\n",
       "      <th>EDC_SBA</th>\n",
       "      <th>EDC_INSUR_BRDN_AMT</th>\n",
       "      <th>STD_YYYY</th>\n",
       "      <th>HSPTZ_PATH_TYPE</th>\n",
       "      <th>SICK_SYM2</th>\n",
       "      <th>SPCF_SYM_TYPE</th>\n",
       "      <th>FST_HSPTZ_DT</th>\n",
       "    </tr>\n",
       "  </thead>\n",
       "  <tbody>\n",
       "    <tr>\n",
       "      <th>0</th>\n",
       "      <td>64e5b7c843f0b22ed2751b28</td>\n",
       "      <td>429577</td>\n",
       "      <td>2002070826167</td>\n",
       "      <td>101494</td>\n",
       "      <td>20020729</td>\n",
       "      <td>3</td>\n",
       "      <td>15</td>\n",
       "      <td>B07</td>\n",
       "      <td>0</td>\n",
       "      <td>0</td>\n",
       "      <td>...</td>\n",
       "      <td>5.0</td>\n",
       "      <td>0.15</td>\n",
       "      <td>10590</td>\n",
       "      <td>3000</td>\n",
       "      <td>7590</td>\n",
       "      <td>2002</td>\n",
       "      <td>NaN</td>\n",
       "      <td>NaN</td>\n",
       "      <td>NaN</td>\n",
       "      <td>NaN</td>\n",
       "    </tr>\n",
       "    <tr>\n",
       "      <th>1</th>\n",
       "      <td>64e5b7c843f0b22ed2751b29</td>\n",
       "      <td>362517</td>\n",
       "      <td>2002070388352</td>\n",
       "      <td>82780</td>\n",
       "      <td>20020729</td>\n",
       "      <td>3</td>\n",
       "      <td>14</td>\n",
       "      <td>B354</td>\n",
       "      <td>NaN</td>\n",
       "      <td>0</td>\n",
       "      <td>...</td>\n",
       "      <td>5.0</td>\n",
       "      <td>0.15</td>\n",
       "      <td>10590</td>\n",
       "      <td>3000</td>\n",
       "      <td>7590</td>\n",
       "      <td>2002</td>\n",
       "      <td>NaN</td>\n",
       "      <td>NaN</td>\n",
       "      <td>NaN</td>\n",
       "      <td>NaN</td>\n",
       "    </tr>\n",
       "    <tr>\n",
       "      <th>2</th>\n",
       "      <td>64e5b7c843f0b22ed2751b2a</td>\n",
       "      <td>850526</td>\n",
       "      <td>2002040682051</td>\n",
       "      <td>15540</td>\n",
       "      <td>20020429</td>\n",
       "      <td>3</td>\n",
       "      <td>10</td>\n",
       "      <td>M81</td>\n",
       "      <td>0</td>\n",
       "      <td>0</td>\n",
       "      <td>...</td>\n",
       "      <td>5.0</td>\n",
       "      <td>0.15</td>\n",
       "      <td>10590</td>\n",
       "      <td>3000</td>\n",
       "      <td>7590</td>\n",
       "      <td>2002</td>\n",
       "      <td>NaN</td>\n",
       "      <td>NaN</td>\n",
       "      <td>NaN</td>\n",
       "      <td>NaN</td>\n",
       "    </tr>\n",
       "    <tr>\n",
       "      <th>3</th>\n",
       "      <td>64e5b7c843f0b22ed2751b2b</td>\n",
       "      <td>334221</td>\n",
       "      <td>2002050374273</td>\n",
       "      <td>47663</td>\n",
       "      <td>20020527</td>\n",
       "      <td>3</td>\n",
       "      <td>14</td>\n",
       "      <td>L739</td>\n",
       "      <td>0</td>\n",
       "      <td>0</td>\n",
       "      <td>...</td>\n",
       "      <td>5.0</td>\n",
       "      <td>0.15</td>\n",
       "      <td>10590</td>\n",
       "      <td>3000</td>\n",
       "      <td>7590</td>\n",
       "      <td>2002</td>\n",
       "      <td>NaN</td>\n",
       "      <td>NaN</td>\n",
       "      <td>NaN</td>\n",
       "      <td>NaN</td>\n",
       "    </tr>\n",
       "    <tr>\n",
       "      <th>4</th>\n",
       "      <td>64e5b7c843f0b22ed2751b2c</td>\n",
       "      <td>1008348</td>\n",
       "      <td>2002090440633</td>\n",
       "      <td>74788</td>\n",
       "      <td>20020924</td>\n",
       "      <td>3</td>\n",
       "      <td>4</td>\n",
       "      <td>D48</td>\n",
       "      <td>NaN</td>\n",
       "      <td>0</td>\n",
       "      <td>...</td>\n",
       "      <td>5.0</td>\n",
       "      <td>0.15</td>\n",
       "      <td>10590</td>\n",
       "      <td>3000</td>\n",
       "      <td>7590</td>\n",
       "      <td>2002</td>\n",
       "      <td>NaN</td>\n",
       "      <td>NaN</td>\n",
       "      <td>NaN</td>\n",
       "      <td>NaN</td>\n",
       "    </tr>\n",
       "    <tr>\n",
       "      <th>...</th>\n",
       "      <td>...</td>\n",
       "      <td>...</td>\n",
       "      <td>...</td>\n",
       "      <td>...</td>\n",
       "      <td>...</td>\n",
       "      <td>...</td>\n",
       "      <td>...</td>\n",
       "      <td>...</td>\n",
       "      <td>...</td>\n",
       "      <td>...</td>\n",
       "      <td>...</td>\n",
       "      <td>...</td>\n",
       "      <td>...</td>\n",
       "      <td>...</td>\n",
       "      <td>...</td>\n",
       "      <td>...</td>\n",
       "      <td>...</td>\n",
       "      <td>...</td>\n",
       "      <td>...</td>\n",
       "      <td>...</td>\n",
       "      <td>...</td>\n",
       "    </tr>\n",
       "    <tr>\n",
       "      <th>137158</th>\n",
       "      <td>64e5b7d243f0b22ed27732ee</td>\n",
       "      <td>2078794</td>\n",
       "      <td>2015021769648</td>\n",
       "      <td>39694</td>\n",
       "      <td>20150217</td>\n",
       "      <td>2</td>\n",
       "      <td>11</td>\n",
       "      <td>J_</td>\n",
       "      <td>0</td>\n",
       "      <td>0</td>\n",
       "      <td>...</td>\n",
       "      <td>9.0</td>\n",
       "      <td>0.20</td>\n",
       "      <td>459240</td>\n",
       "      <td>107180</td>\n",
       "      <td>352060</td>\n",
       "      <td>2015</td>\n",
       "      <td>32.0</td>\n",
       "      <td>A099</td>\n",
       "      <td>NaN</td>\n",
       "      <td>NaN</td>\n",
       "    </tr>\n",
       "    <tr>\n",
       "      <th>137159</th>\n",
       "      <td>64e5b7d243f0b22ed27732ef</td>\n",
       "      <td>179035</td>\n",
       "      <td>2015031741483</td>\n",
       "      <td>85129</td>\n",
       "      <td>20150331</td>\n",
       "      <td>2</td>\n",
       "      <td>10</td>\n",
       "      <td>Z_</td>\n",
       "      <td>0</td>\n",
       "      <td>0</td>\n",
       "      <td>...</td>\n",
       "      <td>1.0</td>\n",
       "      <td>0.20</td>\n",
       "      <td>1296200</td>\n",
       "      <td>307940</td>\n",
       "      <td>988260</td>\n",
       "      <td>2015</td>\n",
       "      <td>32.0</td>\n",
       "      <td>O_</td>\n",
       "      <td>NaN</td>\n",
       "      <td>NaN</td>\n",
       "    </tr>\n",
       "    <tr>\n",
       "      <th>137160</th>\n",
       "      <td>64e5b7d243f0b22ed27732f0</td>\n",
       "      <td>2088649</td>\n",
       "      <td>2015072309822</td>\n",
       "      <td>128413</td>\n",
       "      <td>20150716</td>\n",
       "      <td>2</td>\n",
       "      <td>11</td>\n",
       "      <td>G039</td>\n",
       "      <td>0</td>\n",
       "      <td>0</td>\n",
       "      <td>...</td>\n",
       "      <td>9.0</td>\n",
       "      <td>0.25</td>\n",
       "      <td>945820</td>\n",
       "      <td>224940</td>\n",
       "      <td>720880</td>\n",
       "      <td>2015</td>\n",
       "      <td>32.0</td>\n",
       "      <td>J303</td>\n",
       "      <td>NaN</td>\n",
       "      <td>NaN</td>\n",
       "    </tr>\n",
       "    <tr>\n",
       "      <th>137161</th>\n",
       "      <td>64e5b7d243f0b22ed27732f1</td>\n",
       "      <td>857094</td>\n",
       "      <td>2015072016434</td>\n",
       "      <td>119190</td>\n",
       "      <td>20150712</td>\n",
       "      <td>10</td>\n",
       "      <td>0</td>\n",
       "      <td>F_</td>\n",
       "      <td>0</td>\n",
       "      <td>0</td>\n",
       "      <td>...</td>\n",
       "      <td>9.0</td>\n",
       "      <td>0.15</td>\n",
       "      <td>577940</td>\n",
       "      <td>0</td>\n",
       "      <td>577940</td>\n",
       "      <td>2015</td>\n",
       "      <td>32.0</td>\n",
       "      <td>F_</td>\n",
       "      <td>NaN</td>\n",
       "      <td>NaN</td>\n",
       "    </tr>\n",
       "    <tr>\n",
       "      <th>137162</th>\n",
       "      <td>64e5b7d243f0b22ed27732f2</td>\n",
       "      <td>286070</td>\n",
       "      <td>2015060100839</td>\n",
       "      <td>121839</td>\n",
       "      <td>20150603</td>\n",
       "      <td>2</td>\n",
       "      <td>9</td>\n",
       "      <td>G822</td>\n",
       "      <td>0</td>\n",
       "      <td>0</td>\n",
       "      <td>...</td>\n",
       "      <td>1.0</td>\n",
       "      <td>0.20</td>\n",
       "      <td>2004440</td>\n",
       "      <td>522320</td>\n",
       "      <td>1482120</td>\n",
       "      <td>2015</td>\n",
       "      <td>32.0</td>\n",
       "      <td>F_</td>\n",
       "      <td>NaN</td>\n",
       "      <td>20150603.0</td>\n",
       "    </tr>\n",
       "  </tbody>\n",
       "</table>\n",
       "<p>137163 rows × 23 columns</p>\n",
       "</div>"
      ],
      "text/plain": [
       "                             _id  RN_INDI         RN_KEY  RN_INST  \\\n",
       "0       64e5b7c843f0b22ed2751b28   429577  2002070826167   101494   \n",
       "1       64e5b7c843f0b22ed2751b29   362517  2002070388352    82780   \n",
       "2       64e5b7c843f0b22ed2751b2a   850526  2002040682051    15540   \n",
       "3       64e5b7c843f0b22ed2751b2b   334221  2002050374273    47663   \n",
       "4       64e5b7c843f0b22ed2751b2c  1008348  2002090440633    74788   \n",
       "...                          ...      ...            ...      ...   \n",
       "137158  64e5b7d243f0b22ed27732ee  2078794  2015021769648    39694   \n",
       "137159  64e5b7d243f0b22ed27732ef   179035  2015031741483    85129   \n",
       "137160  64e5b7d243f0b22ed27732f0  2088649  2015072309822   128413   \n",
       "137161  64e5b7d243f0b22ed27732f1   857094  2015072016434   119190   \n",
       "137162  64e5b7d243f0b22ed27732f2   286070  2015060100839   121839   \n",
       "\n",
       "        MDCARE_STRT_DT  FORM_CD  MCARE_SUBJ_CD SICK_SYM1 OFIJ_TYPE  OPRTN_YN  \\\n",
       "0             20020729        3             15       B07         0         0   \n",
       "1             20020729        3             14      B354       NaN         0   \n",
       "2             20020429        3             10       M81         0         0   \n",
       "3             20020527        3             14      L739         0         0   \n",
       "4             20020924        3              4       D48       NaN         0   \n",
       "...                ...      ...            ...       ...       ...       ...   \n",
       "137158        20150217        2             11        J_         0         0   \n",
       "137159        20150331        2             10        Z_         0         0   \n",
       "137160        20150716        2             11      G039         0         0   \n",
       "137161        20150712       10              0        F_         0         0   \n",
       "137162        20150603        2              9      G822         0         0   \n",
       "\n",
       "        ...  MCARE_RSLT_TYPE  EDC_ADD_RT  ED_RC_TOT_AMT  EDC_SBA  \\\n",
       "0       ...              5.0        0.15          10590     3000   \n",
       "1       ...              5.0        0.15          10590     3000   \n",
       "2       ...              5.0        0.15          10590     3000   \n",
       "3       ...              5.0        0.15          10590     3000   \n",
       "4       ...              5.0        0.15          10590     3000   \n",
       "...     ...              ...         ...            ...      ...   \n",
       "137158  ...              9.0        0.20         459240   107180   \n",
       "137159  ...              1.0        0.20        1296200   307940   \n",
       "137160  ...              9.0        0.25         945820   224940   \n",
       "137161  ...              9.0        0.15         577940        0   \n",
       "137162  ...              1.0        0.20        2004440   522320   \n",
       "\n",
       "        EDC_INSUR_BRDN_AMT  STD_YYYY  HSPTZ_PATH_TYPE  SICK_SYM2  \\\n",
       "0                     7590      2002              NaN        NaN   \n",
       "1                     7590      2002              NaN        NaN   \n",
       "2                     7590      2002              NaN        NaN   \n",
       "3                     7590      2002              NaN        NaN   \n",
       "4                     7590      2002              NaN        NaN   \n",
       "...                    ...       ...              ...        ...   \n",
       "137158              352060      2015             32.0       A099   \n",
       "137159              988260      2015             32.0         O_   \n",
       "137160              720880      2015             32.0       J303   \n",
       "137161              577940      2015             32.0         F_   \n",
       "137162             1482120      2015             32.0         F_   \n",
       "\n",
       "        SPCF_SYM_TYPE  FST_HSPTZ_DT  \n",
       "0                 NaN           NaN  \n",
       "1                 NaN           NaN  \n",
       "2                 NaN           NaN  \n",
       "3                 NaN           NaN  \n",
       "4                 NaN           NaN  \n",
       "...               ...           ...  \n",
       "137158            NaN           NaN  \n",
       "137159            NaN           NaN  \n",
       "137160            NaN           NaN  \n",
       "137161            NaN           NaN  \n",
       "137162            NaN    20150603.0  \n",
       "\n",
       "[137163 rows x 23 columns]"
      ]
     },
     "execution_count": 8,
     "metadata": {},
     "output_type": "execute_result"
    }
   ],
   "source": [
    "df_M20"
   ]
  },
  {
   "cell_type": "code",
   "execution_count": 9,
   "id": "3277174f-20bf-48d8-b604-47128071aeee",
   "metadata": {
    "tags": []
   },
   "outputs": [
    {
     "data": {
      "text/html": [
       "<div>\n",
       "<style scoped>\n",
       "    .dataframe tbody tr th:only-of-type {\n",
       "        vertical-align: middle;\n",
       "    }\n",
       "\n",
       "    .dataframe tbody tr th {\n",
       "        vertical-align: top;\n",
       "    }\n",
       "\n",
       "    .dataframe thead th {\n",
       "        text-align: right;\n",
       "    }\n",
       "</style>\n",
       "<table border=\"1\" class=\"dataframe\">\n",
       "  <thead>\n",
       "    <tr style=\"text-align: right;\">\n",
       "      <th></th>\n",
       "      <th>RN_INDI</th>\n",
       "      <th>RN_KEY</th>\n",
       "      <th>RN_INST</th>\n",
       "      <th>MDCARE_STRT_DT</th>\n",
       "      <th>FORM_CD</th>\n",
       "      <th>MCARE_SUBJ_CD</th>\n",
       "      <th>OPRTN_YN</th>\n",
       "      <th>MDCARE_DD_CNT</th>\n",
       "      <th>VSHSP_DD_CNT</th>\n",
       "      <th>TOT_PRSC_DD_CNT</th>\n",
       "      <th>MCARE_RSLT_TYPE</th>\n",
       "      <th>EDC_ADD_RT</th>\n",
       "      <th>ED_RC_TOT_AMT</th>\n",
       "      <th>EDC_SBA</th>\n",
       "      <th>EDC_INSUR_BRDN_AMT</th>\n",
       "      <th>STD_YYYY</th>\n",
       "      <th>HSPTZ_PATH_TYPE</th>\n",
       "      <th>FST_HSPTZ_DT</th>\n",
       "    </tr>\n",
       "  </thead>\n",
       "  <tbody>\n",
       "    <tr>\n",
       "      <th>count</th>\n",
       "      <td>1.371630e+05</td>\n",
       "      <td>1.371630e+05</td>\n",
       "      <td>137163.000000</td>\n",
       "      <td>1.371630e+05</td>\n",
       "      <td>137163.000000</td>\n",
       "      <td>137163.000000</td>\n",
       "      <td>137163.000000</td>\n",
       "      <td>137163.000000</td>\n",
       "      <td>137163.000000</td>\n",
       "      <td>137163.000000</td>\n",
       "      <td>133958.000000</td>\n",
       "      <td>137163.000000</td>\n",
       "      <td>1.371630e+05</td>\n",
       "      <td>1.371630e+05</td>\n",
       "      <td>1.371630e+05</td>\n",
       "      <td>137163.000000</td>\n",
       "      <td>4201.000000</td>\n",
       "      <td>1.040000e+03</td>\n",
       "    </tr>\n",
       "    <tr>\n",
       "      <th>mean</th>\n",
       "      <td>6.219426e+05</td>\n",
       "      <td>2.009887e+12</td>\n",
       "      <td>72441.668446</td>\n",
       "      <td>2.009887e+07</td>\n",
       "      <td>3.134767</td>\n",
       "      <td>7.012948</td>\n",
       "      <td>0.158986</td>\n",
       "      <td>1.977071</td>\n",
       "      <td>1.300190</td>\n",
       "      <td>8.787049</td>\n",
       "      <td>1.665656</td>\n",
       "      <td>0.163576</td>\n",
       "      <td>4.800070e+04</td>\n",
       "      <td>1.079379e+04</td>\n",
       "      <td>3.711239e+04</td>\n",
       "      <td>2009.819828</td>\n",
       "      <td>31.539395</td>\n",
       "      <td>2.012957e+07</td>\n",
       "    </tr>\n",
       "    <tr>\n",
       "      <th>std</th>\n",
       "      <td>5.250558e+05</td>\n",
       "      <td>3.710175e+09</td>\n",
       "      <td>43045.267803</td>\n",
       "      <td>3.710000e+04</td>\n",
       "      <td>0.985421</td>\n",
       "      <td>6.029033</td>\n",
       "      <td>1.185583</td>\n",
       "      <td>5.014257</td>\n",
       "      <td>1.769308</td>\n",
       "      <td>17.412973</td>\n",
       "      <td>1.784243</td>\n",
       "      <td>0.047625</td>\n",
       "      <td>3.264981e+05</td>\n",
       "      <td>5.320642e+04</td>\n",
       "      <td>2.838561e+05</td>\n",
       "      <td>3.710555</td>\n",
       "      <td>2.706418</td>\n",
       "      <td>2.093774e+04</td>\n",
       "    </tr>\n",
       "    <tr>\n",
       "      <th>min</th>\n",
       "      <td>1.433000e+03</td>\n",
       "      <td>2.002010e+12</td>\n",
       "      <td>8.000000</td>\n",
       "      <td>2.002010e+07</td>\n",
       "      <td>2.000000</td>\n",
       "      <td>0.000000</td>\n",
       "      <td>0.000000</td>\n",
       "      <td>0.000000</td>\n",
       "      <td>0.000000</td>\n",
       "      <td>0.000000</td>\n",
       "      <td>0.000000</td>\n",
       "      <td>0.000000</td>\n",
       "      <td>0.000000e+00</td>\n",
       "      <td>0.000000e+00</td>\n",
       "      <td>0.000000e+00</td>\n",
       "      <td>2002.000000</td>\n",
       "      <td>11.000000</td>\n",
       "      <td>2.005080e+07</td>\n",
       "    </tr>\n",
       "    <tr>\n",
       "      <th>25%</th>\n",
       "      <td>2.676310e+05</td>\n",
       "      <td>2.007091e+12</td>\n",
       "      <td>34440.000000</td>\n",
       "      <td>2.007092e+07</td>\n",
       "      <td>3.000000</td>\n",
       "      <td>1.000000</td>\n",
       "      <td>0.000000</td>\n",
       "      <td>1.000000</td>\n",
       "      <td>1.000000</td>\n",
       "      <td>0.000000</td>\n",
       "      <td>1.000000</td>\n",
       "      <td>0.150000</td>\n",
       "      <td>1.057000e+04</td>\n",
       "      <td>2.500000e+03</td>\n",
       "      <td>7.570000e+03</td>\n",
       "      <td>2007.000000</td>\n",
       "      <td>32.000000</td>\n",
       "      <td>2.012052e+07</td>\n",
       "    </tr>\n",
       "    <tr>\n",
       "      <th>50%</th>\n",
       "      <td>5.166210e+05</td>\n",
       "      <td>2.010100e+12</td>\n",
       "      <td>71653.000000</td>\n",
       "      <td>2.010101e+07</td>\n",
       "      <td>3.000000</td>\n",
       "      <td>5.000000</td>\n",
       "      <td>0.000000</td>\n",
       "      <td>1.000000</td>\n",
       "      <td>1.000000</td>\n",
       "      <td>3.000000</td>\n",
       "      <td>1.000000</td>\n",
       "      <td>0.150000</td>\n",
       "      <td>1.328000e+04</td>\n",
       "      <td>3.500000e+03</td>\n",
       "      <td>9.800000e+03</td>\n",
       "      <td>2010.000000</td>\n",
       "      <td>32.000000</td>\n",
       "      <td>2.013122e+07</td>\n",
       "    </tr>\n",
       "    <tr>\n",
       "      <th>75%</th>\n",
       "      <td>7.927530e+05</td>\n",
       "      <td>2.013061e+12</td>\n",
       "      <td>109296.000000</td>\n",
       "      <td>2.013061e+07</td>\n",
       "      <td>3.000000</td>\n",
       "      <td>12.000000</td>\n",
       "      <td>0.000000</td>\n",
       "      <td>1.000000</td>\n",
       "      <td>1.000000</td>\n",
       "      <td>7.000000</td>\n",
       "      <td>1.000000</td>\n",
       "      <td>0.150000</td>\n",
       "      <td>2.045000e+04</td>\n",
       "      <td>6.000000e+03</td>\n",
       "      <td>1.412000e+04</td>\n",
       "      <td>2013.000000</td>\n",
       "      <td>32.000000</td>\n",
       "      <td>2.014103e+07</td>\n",
       "    </tr>\n",
       "    <tr>\n",
       "      <th>max</th>\n",
       "      <td>3.000758e+06</td>\n",
       "      <td>2.015123e+12</td>\n",
       "      <td>147294.000000</td>\n",
       "      <td>2.015123e+07</td>\n",
       "      <td>15.000000</td>\n",
       "      <td>99.000000</td>\n",
       "      <td>9.000000</td>\n",
       "      <td>120.000000</td>\n",
       "      <td>62.000000</td>\n",
       "      <td>365.000000</td>\n",
       "      <td>9.000000</td>\n",
       "      <td>0.300000</td>\n",
       "      <td>5.568301e+07</td>\n",
       "      <td>4.431340e+06</td>\n",
       "      <td>5.284227e+07</td>\n",
       "      <td>2015.000000</td>\n",
       "      <td>32.000000</td>\n",
       "      <td>2.015123e+07</td>\n",
       "    </tr>\n",
       "  </tbody>\n",
       "</table>\n",
       "</div>"
      ],
      "text/plain": [
       "            RN_INDI        RN_KEY        RN_INST  MDCARE_STRT_DT  \\\n",
       "count  1.371630e+05  1.371630e+05  137163.000000    1.371630e+05   \n",
       "mean   6.219426e+05  2.009887e+12   72441.668446    2.009887e+07   \n",
       "std    5.250558e+05  3.710175e+09   43045.267803    3.710000e+04   \n",
       "min    1.433000e+03  2.002010e+12       8.000000    2.002010e+07   \n",
       "25%    2.676310e+05  2.007091e+12   34440.000000    2.007092e+07   \n",
       "50%    5.166210e+05  2.010100e+12   71653.000000    2.010101e+07   \n",
       "75%    7.927530e+05  2.013061e+12  109296.000000    2.013061e+07   \n",
       "max    3.000758e+06  2.015123e+12  147294.000000    2.015123e+07   \n",
       "\n",
       "             FORM_CD  MCARE_SUBJ_CD       OPRTN_YN  MDCARE_DD_CNT  \\\n",
       "count  137163.000000  137163.000000  137163.000000  137163.000000   \n",
       "mean        3.134767       7.012948       0.158986       1.977071   \n",
       "std         0.985421       6.029033       1.185583       5.014257   \n",
       "min         2.000000       0.000000       0.000000       0.000000   \n",
       "25%         3.000000       1.000000       0.000000       1.000000   \n",
       "50%         3.000000       5.000000       0.000000       1.000000   \n",
       "75%         3.000000      12.000000       0.000000       1.000000   \n",
       "max        15.000000      99.000000       9.000000     120.000000   \n",
       "\n",
       "        VSHSP_DD_CNT  TOT_PRSC_DD_CNT  MCARE_RSLT_TYPE     EDC_ADD_RT  \\\n",
       "count  137163.000000    137163.000000    133958.000000  137163.000000   \n",
       "mean        1.300190         8.787049         1.665656       0.163576   \n",
       "std         1.769308        17.412973         1.784243       0.047625   \n",
       "min         0.000000         0.000000         0.000000       0.000000   \n",
       "25%         1.000000         0.000000         1.000000       0.150000   \n",
       "50%         1.000000         3.000000         1.000000       0.150000   \n",
       "75%         1.000000         7.000000         1.000000       0.150000   \n",
       "max        62.000000       365.000000         9.000000       0.300000   \n",
       "\n",
       "       ED_RC_TOT_AMT       EDC_SBA  EDC_INSUR_BRDN_AMT       STD_YYYY  \\\n",
       "count   1.371630e+05  1.371630e+05        1.371630e+05  137163.000000   \n",
       "mean    4.800070e+04  1.079379e+04        3.711239e+04    2009.819828   \n",
       "std     3.264981e+05  5.320642e+04        2.838561e+05       3.710555   \n",
       "min     0.000000e+00  0.000000e+00        0.000000e+00    2002.000000   \n",
       "25%     1.057000e+04  2.500000e+03        7.570000e+03    2007.000000   \n",
       "50%     1.328000e+04  3.500000e+03        9.800000e+03    2010.000000   \n",
       "75%     2.045000e+04  6.000000e+03        1.412000e+04    2013.000000   \n",
       "max     5.568301e+07  4.431340e+06        5.284227e+07    2015.000000   \n",
       "\n",
       "       HSPTZ_PATH_TYPE  FST_HSPTZ_DT  \n",
       "count      4201.000000  1.040000e+03  \n",
       "mean         31.539395  2.012957e+07  \n",
       "std           2.706418  2.093774e+04  \n",
       "min          11.000000  2.005080e+07  \n",
       "25%          32.000000  2.012052e+07  \n",
       "50%          32.000000  2.013122e+07  \n",
       "75%          32.000000  2.014103e+07  \n",
       "max          32.000000  2.015123e+07  "
      ]
     },
     "execution_count": 9,
     "metadata": {},
     "output_type": "execute_result"
    }
   ],
   "source": [
    "df_M20.describe()"
   ]
  },
  {
   "cell_type": "markdown",
   "id": "1eea5fa7-2b14-46d2-b677-bf22afc21522",
   "metadata": {},
   "source": [
    "#### 목표변수와 설명변수 추출\n",
    "- 목표변수 : MCARE_RSLT_TYPE\n",
    "- 설명 변수 : MDCARE_DD_CNT , TOT_PRSC_DD_CNT"
   ]
  },
  {
   "cell_type": "code",
   "execution_count": 10,
   "id": "fd0785e7-8665-4b94-a926-532933dd1157",
   "metadata": {
    "tags": []
   },
   "outputs": [
    {
     "data": {
      "text/html": [
       "<div>\n",
       "<style scoped>\n",
       "    .dataframe tbody tr th:only-of-type {\n",
       "        vertical-align: middle;\n",
       "    }\n",
       "\n",
       "    .dataframe tbody tr th {\n",
       "        vertical-align: top;\n",
       "    }\n",
       "\n",
       "    .dataframe thead th {\n",
       "        text-align: right;\n",
       "    }\n",
       "</style>\n",
       "<table border=\"1\" class=\"dataframe\">\n",
       "  <thead>\n",
       "    <tr style=\"text-align: right;\">\n",
       "      <th></th>\n",
       "      <th>MCARE_RSLT_TYPE</th>\n",
       "      <th>MDCARE_DD_CNT</th>\n",
       "      <th>TOT_PRSC_DD_CNT</th>\n",
       "    </tr>\n",
       "  </thead>\n",
       "  <tbody>\n",
       "    <tr>\n",
       "      <th>0</th>\n",
       "      <td>5.0</td>\n",
       "      <td>1</td>\n",
       "      <td>0</td>\n",
       "    </tr>\n",
       "    <tr>\n",
       "      <th>1</th>\n",
       "      <td>5.0</td>\n",
       "      <td>1</td>\n",
       "      <td>2</td>\n",
       "    </tr>\n",
       "    <tr>\n",
       "      <th>2</th>\n",
       "      <td>5.0</td>\n",
       "      <td>1</td>\n",
       "      <td>75</td>\n",
       "    </tr>\n",
       "    <tr>\n",
       "      <th>3</th>\n",
       "      <td>5.0</td>\n",
       "      <td>1</td>\n",
       "      <td>3</td>\n",
       "    </tr>\n",
       "    <tr>\n",
       "      <th>4</th>\n",
       "      <td>5.0</td>\n",
       "      <td>1</td>\n",
       "      <td>3</td>\n",
       "    </tr>\n",
       "    <tr>\n",
       "      <th>...</th>\n",
       "      <td>...</td>\n",
       "      <td>...</td>\n",
       "      <td>...</td>\n",
       "    </tr>\n",
       "    <tr>\n",
       "      <th>137158</th>\n",
       "      <td>9.0</td>\n",
       "      <td>7</td>\n",
       "      <td>0</td>\n",
       "    </tr>\n",
       "    <tr>\n",
       "      <th>137159</th>\n",
       "      <td>1.0</td>\n",
       "      <td>27</td>\n",
       "      <td>0</td>\n",
       "    </tr>\n",
       "    <tr>\n",
       "      <th>137160</th>\n",
       "      <td>9.0</td>\n",
       "      <td>11</td>\n",
       "      <td>0</td>\n",
       "    </tr>\n",
       "    <tr>\n",
       "      <th>137161</th>\n",
       "      <td>9.0</td>\n",
       "      <td>33</td>\n",
       "      <td>0</td>\n",
       "    </tr>\n",
       "    <tr>\n",
       "      <th>137162</th>\n",
       "      <td>1.0</td>\n",
       "      <td>28</td>\n",
       "      <td>0</td>\n",
       "    </tr>\n",
       "  </tbody>\n",
       "</table>\n",
       "<p>137163 rows × 3 columns</p>\n",
       "</div>"
      ],
      "text/plain": [
       "        MCARE_RSLT_TYPE  MDCARE_DD_CNT  TOT_PRSC_DD_CNT\n",
       "0                   5.0              1                0\n",
       "1                   5.0              1                2\n",
       "2                   5.0              1               75\n",
       "3                   5.0              1                3\n",
       "4                   5.0              1                3\n",
       "...                 ...            ...              ...\n",
       "137158              9.0              7                0\n",
       "137159              1.0             27                0\n",
       "137160              9.0             11                0\n",
       "137161              9.0             33                0\n",
       "137162              1.0             28                0\n",
       "\n",
       "[137163 rows x 3 columns]"
      ]
     },
     "execution_count": 10,
     "metadata": {},
     "output_type": "execute_result"
    }
   ],
   "source": [
    "df_M20_extract = df_M20[['MCARE_RSLT_TYPE','MDCARE_DD_CNT', 'TOT_PRSC_DD_CNT' ]]\n",
    "df_M20_extract"
   ]
  },
  {
   "cell_type": "markdown",
   "id": "98cc3c51-6c66-4ce3-81c1-a78fcfb9587c",
   "metadata": {
    "tags": []
   },
   "source": [
    "#### 결측치나 이상치 확인"
   ]
  },
  {
   "cell_type": "code",
   "execution_count": 11,
   "id": "60320006-0b2a-4226-a18a-e07bc95e401b",
   "metadata": {
    "tags": []
   },
   "outputs": [
    {
     "data": {
      "text/plain": [
       "MCARE_RSLT_TYPE    3205\n",
       "MDCARE_DD_CNT         0\n",
       "TOT_PRSC_DD_CNT       0\n",
       "dtype: int64"
      ]
     },
     "execution_count": 11,
     "metadata": {},
     "output_type": "execute_result"
    }
   ],
   "source": [
    "df_M20_extract.isnull().sum()"
   ]
  },
  {
   "cell_type": "code",
   "execution_count": 12,
   "id": "9f640277-0099-44a3-8da7-e6d10eb3fe8c",
   "metadata": {
    "tags": []
   },
   "outputs": [],
   "source": [
    "df_M20_extract = df_M20_extract.dropna()"
   ]
  },
  {
   "cell_type": "code",
   "execution_count": 13,
   "id": "3a6f8fef-9b4a-46c6-8c74-14c926322695",
   "metadata": {
    "tags": []
   },
   "outputs": [
    {
     "data": {
      "text/plain": [
       "MCARE_RSLT_TYPE    0\n",
       "MDCARE_DD_CNT      0\n",
       "TOT_PRSC_DD_CNT    0\n",
       "dtype: int64"
      ]
     },
     "execution_count": 13,
     "metadata": {},
     "output_type": "execute_result"
    }
   ],
   "source": [
    "df_M20_extract.isnull().sum()"
   ]
  },
  {
   "cell_type": "code",
   "execution_count": 14,
   "id": "22763720-930d-4463-a714-24ce9bb02f58",
   "metadata": {
    "tags": []
   },
   "outputs": [],
   "source": [
    "df_M20_extract.to_csv('NSC2_M20_quest.csv')"
   ]
  },
  {
   "cell_type": "markdown",
   "id": "c45b75b0-cc79-47dc-ab63-36de1158be08",
   "metadata": {},
   "source": [
    "##### Structured data : X , Y\n",
    "- 목표변수 , Y , **Target**\n",
    "- 설명변수 , X , **label**\n",
    "- 목표변수와 설명변수 분리"
   ]
  },
  {
   "cell_type": "code",
   "execution_count": 24,
   "id": "c4eb2aa0-d0ae-481c-af25-c1d87a3e5091",
   "metadata": {
    "tags": []
   },
   "outputs": [
    {
     "data": {
      "text/plain": [
       "((133958,), (133958, 2))"
      ]
     },
     "execution_count": 24,
     "metadata": {},
     "output_type": "execute_result"
    }
   ],
   "source": [
    "target = df_M20_extract['MCARE_RSLT_TYPE']\n",
    "labels = df_M20_extract[['MDCARE_DD_CNT', 'TOT_PRSC_DD_CNT']]\n",
    "target.shape , labels.shape   #( 행 , 열 ) "
   ]
  },
  {
   "cell_type": "markdown",
   "id": "1c6641fa-a667-45ab-843a-a259407b4839",
   "metadata": {},
   "source": [
    "### 모델(알고리즘) 학습"
   ]
  },
  {
   "cell_type": "markdown",
   "id": "0b9d4050-6e02-49d5-9388-b3de699394dc",
   "metadata": {
    "tags": []
   },
   "source": [
    "#### 모델 학습\n",
    "- target datatype 종속"
   ]
  },
  {
   "cell_type": "code",
   "execution_count": 25,
   "id": "7d9eb913-d059-4625-a914-d877e4d60128",
   "metadata": {
    "tags": []
   },
   "outputs": [],
   "source": [
    "from sklearn.linear_model import LinearRegression "
   ]
  },
  {
   "cell_type": "code",
   "execution_count": 26,
   "id": "33bd1d6f-e387-4cea-8522-72b223ae4cb7",
   "metadata": {
    "tags": []
   },
   "outputs": [
    {
     "data": {
      "text/html": [
       "<style>#sk-container-id-2 {color: black;background-color: white;}#sk-container-id-2 pre{padding: 0;}#sk-container-id-2 div.sk-toggleable {background-color: white;}#sk-container-id-2 label.sk-toggleable__label {cursor: pointer;display: block;width: 100%;margin-bottom: 0;padding: 0.3em;box-sizing: border-box;text-align: center;}#sk-container-id-2 label.sk-toggleable__label-arrow:before {content: \"▸\";float: left;margin-right: 0.25em;color: #696969;}#sk-container-id-2 label.sk-toggleable__label-arrow:hover:before {color: black;}#sk-container-id-2 div.sk-estimator:hover label.sk-toggleable__label-arrow:before {color: black;}#sk-container-id-2 div.sk-toggleable__content {max-height: 0;max-width: 0;overflow: hidden;text-align: left;background-color: #f0f8ff;}#sk-container-id-2 div.sk-toggleable__content pre {margin: 0.2em;color: black;border-radius: 0.25em;background-color: #f0f8ff;}#sk-container-id-2 input.sk-toggleable__control:checked~div.sk-toggleable__content {max-height: 200px;max-width: 100%;overflow: auto;}#sk-container-id-2 input.sk-toggleable__control:checked~label.sk-toggleable__label-arrow:before {content: \"▾\";}#sk-container-id-2 div.sk-estimator input.sk-toggleable__control:checked~label.sk-toggleable__label {background-color: #d4ebff;}#sk-container-id-2 div.sk-label input.sk-toggleable__control:checked~label.sk-toggleable__label {background-color: #d4ebff;}#sk-container-id-2 input.sk-hidden--visually {border: 0;clip: rect(1px 1px 1px 1px);clip: rect(1px, 1px, 1px, 1px);height: 1px;margin: -1px;overflow: hidden;padding: 0;position: absolute;width: 1px;}#sk-container-id-2 div.sk-estimator {font-family: monospace;background-color: #f0f8ff;border: 1px dotted black;border-radius: 0.25em;box-sizing: border-box;margin-bottom: 0.5em;}#sk-container-id-2 div.sk-estimator:hover {background-color: #d4ebff;}#sk-container-id-2 div.sk-parallel-item::after {content: \"\";width: 100%;border-bottom: 1px solid gray;flex-grow: 1;}#sk-container-id-2 div.sk-label:hover label.sk-toggleable__label {background-color: #d4ebff;}#sk-container-id-2 div.sk-serial::before {content: \"\";position: absolute;border-left: 1px solid gray;box-sizing: border-box;top: 0;bottom: 0;left: 50%;z-index: 0;}#sk-container-id-2 div.sk-serial {display: flex;flex-direction: column;align-items: center;background-color: white;padding-right: 0.2em;padding-left: 0.2em;position: relative;}#sk-container-id-2 div.sk-item {position: relative;z-index: 1;}#sk-container-id-2 div.sk-parallel {display: flex;align-items: stretch;justify-content: center;background-color: white;position: relative;}#sk-container-id-2 div.sk-item::before, #sk-container-id-2 div.sk-parallel-item::before {content: \"\";position: absolute;border-left: 1px solid gray;box-sizing: border-box;top: 0;bottom: 0;left: 50%;z-index: -1;}#sk-container-id-2 div.sk-parallel-item {display: flex;flex-direction: column;z-index: 1;position: relative;background-color: white;}#sk-container-id-2 div.sk-parallel-item:first-child::after {align-self: flex-end;width: 50%;}#sk-container-id-2 div.sk-parallel-item:last-child::after {align-self: flex-start;width: 50%;}#sk-container-id-2 div.sk-parallel-item:only-child::after {width: 0;}#sk-container-id-2 div.sk-dashed-wrapped {border: 1px dashed gray;margin: 0 0.4em 0.5em 0.4em;box-sizing: border-box;padding-bottom: 0.4em;background-color: white;}#sk-container-id-2 div.sk-label label {font-family: monospace;font-weight: bold;display: inline-block;line-height: 1.2em;}#sk-container-id-2 div.sk-label-container {text-align: center;}#sk-container-id-2 div.sk-container {/* jupyter's `normalize.less` sets `[hidden] { display: none; }` but bootstrap.min.css set `[hidden] { display: none !important; }` so we also need the `!important` here to be able to override the default hidden behavior on the sphinx rendered scikit-learn.org. See: https://github.com/scikit-learn/scikit-learn/issues/21755 */display: inline-block !important;position: relative;}#sk-container-id-2 div.sk-text-repr-fallback {display: none;}</style><div id=\"sk-container-id-2\" class=\"sk-top-container\"><div class=\"sk-text-repr-fallback\"><pre>LinearRegression()</pre><b>In a Jupyter environment, please rerun this cell to show the HTML representation or trust the notebook. <br />On GitHub, the HTML representation is unable to render, please try loading this page with nbviewer.org.</b></div><div class=\"sk-container\" hidden><div class=\"sk-item\"><div class=\"sk-estimator sk-toggleable\"><input class=\"sk-toggleable__control sk-hidden--visually\" id=\"sk-estimator-id-2\" type=\"checkbox\" checked><label for=\"sk-estimator-id-2\" class=\"sk-toggleable__label sk-toggleable__label-arrow\">LinearRegression</label><div class=\"sk-toggleable__content\"><pre>LinearRegression()</pre></div></div></div></div></div>"
      ],
      "text/plain": [
       "LinearRegression()"
      ]
     },
     "execution_count": 26,
     "metadata": {},
     "output_type": "execute_result"
    }
   ],
   "source": [
    "model = LinearRegression()\n",
    "model.fit(labels, target)    #fit( 설명변수 , 목표변수)"
   ]
  },
  {
   "cell_type": "markdown",
   "id": "a79805a3-00a1-47cc-8b1a-1c0072d0f65b",
   "metadata": {},
   "source": [
    "#### 평가 "
   ]
  },
  {
   "cell_type": "code",
   "execution_count": 27,
   "id": "512d075e-d4dc-4037-b827-9710c20bdf6d",
   "metadata": {
    "tags": []
   },
   "outputs": [
    {
     "data": {
      "text/plain": [
       "133958"
      ]
     },
     "execution_count": 27,
     "metadata": {},
     "output_type": "execute_result"
    }
   ],
   "source": [
    "target_predit = model.predict(labels)\n",
    "len(target_predit)     # 1번째 index 와 1번째 predit 확인 "
   ]
  },
  {
   "cell_type": "code",
   "execution_count": 28,
   "id": "59c3a3dc-e2a0-4eba-aa52-64bfe7313834",
   "metadata": {
    "tags": []
   },
   "outputs": [
    {
     "data": {
      "text/plain": [
       "0.013431643370749646"
      ]
     },
     "execution_count": 28,
     "metadata": {},
     "output_type": "execute_result"
    }
   ],
   "source": [
    "from sklearn.metrics import r2_score\n",
    "r2_score(target,target_predit) "
   ]
  },
  {
   "cell_type": "markdown",
   "id": "d5bb5643-e1c2-41b8-a7b9-27bfa08bb0f1",
   "metadata": {},
   "source": [
    "#### 미래예측(서비스 개시)"
   ]
  },
  {
   "cell_type": "code",
   "execution_count": 29,
   "id": "429d7c90-1c98-438f-8ae8-a5a595c9ea23",
   "metadata": {
    "tags": []
   },
   "outputs": [
    {
     "data": {
      "text/html": [
       "<div>\n",
       "<style scoped>\n",
       "    .dataframe tbody tr th:only-of-type {\n",
       "        vertical-align: middle;\n",
       "    }\n",
       "\n",
       "    .dataframe tbody tr th {\n",
       "        vertical-align: top;\n",
       "    }\n",
       "\n",
       "    .dataframe thead th {\n",
       "        text-align: right;\n",
       "    }\n",
       "</style>\n",
       "<table border=\"1\" class=\"dataframe\">\n",
       "  <thead>\n",
       "    <tr style=\"text-align: right;\">\n",
       "      <th></th>\n",
       "      <th>MCARE_RSLT_TYPE</th>\n",
       "      <th>MDCARE_DD_CNT</th>\n",
       "      <th>TOT_PRSC_DD_CNT</th>\n",
       "    </tr>\n",
       "  </thead>\n",
       "  <tbody>\n",
       "    <tr>\n",
       "      <th>50</th>\n",
       "      <td>5.0</td>\n",
       "      <td>1</td>\n",
       "      <td>1</td>\n",
       "    </tr>\n",
       "    <tr>\n",
       "      <th>51</th>\n",
       "      <td>5.0</td>\n",
       "      <td>1</td>\n",
       "      <td>60</td>\n",
       "    </tr>\n",
       "    <tr>\n",
       "      <th>52</th>\n",
       "      <td>5.0</td>\n",
       "      <td>1</td>\n",
       "      <td>7</td>\n",
       "    </tr>\n",
       "    <tr>\n",
       "      <th>53</th>\n",
       "      <td>5.0</td>\n",
       "      <td>1</td>\n",
       "      <td>0</td>\n",
       "    </tr>\n",
       "    <tr>\n",
       "      <th>54</th>\n",
       "      <td>5.0</td>\n",
       "      <td>1</td>\n",
       "      <td>10</td>\n",
       "    </tr>\n",
       "  </tbody>\n",
       "</table>\n",
       "</div>"
      ],
      "text/plain": [
       "    MCARE_RSLT_TYPE  MDCARE_DD_CNT  TOT_PRSC_DD_CNT\n",
       "50              5.0              1                1\n",
       "51              5.0              1               60\n",
       "52              5.0              1                7\n",
       "53              5.0              1                0\n",
       "54              5.0              1               10"
      ]
     },
     "execution_count": 29,
     "metadata": {},
     "output_type": "execute_result"
    }
   ],
   "source": [
    "df_M20_extract[50:55]"
   ]
  },
  {
   "cell_type": "code",
   "execution_count": 30,
   "id": "c92cdd68-ad8d-470f-84d4-0f71b2dfb5f8",
   "metadata": {
    "tags": []
   },
   "outputs": [],
   "source": [
    "# 51번째 확인  1,60 : 외부에서 입\n",
    "temp_label = [[1,60]]"
   ]
  },
  {
   "cell_type": "code",
   "execution_count": 31,
   "id": "729160b8-4e21-428b-8256-fb170d54adb5",
   "metadata": {
    "tags": []
   },
   "outputs": [
    {
     "name": "stderr",
     "output_type": "stream",
     "text": [
      "C:\\Users\\04-04\\anaconda3\\Lib\\site-packages\\sklearn\\base.py:439: UserWarning: X does not have valid feature names, but LinearRegression was fitted with feature names\n",
      "  warnings.warn(\n"
     ]
    },
    {
     "data": {
      "text/plain": [
       "array([1.69555547])"
      ]
     },
     "execution_count": 31,
     "metadata": {},
     "output_type": "execute_result"
    }
   ],
   "source": [
    "model.predict(temp_label)"
   ]
  },
  {
   "cell_type": "code",
   "execution_count": null,
   "id": "1ad56d4a-d2c4-42d5-810b-5fb7a90cd1e5",
   "metadata": {},
   "outputs": [],
   "source": []
  }
 ],
 "metadata": {
  "kernelspec": {
   "display_name": "Python 3 (ipykernel)",
   "language": "python",
   "name": "python3"
  },
  "language_info": {
   "codemirror_mode": {
    "name": "ipython",
    "version": 3
   },
   "file_extension": ".py",
   "mimetype": "text/x-python",
   "name": "python",
   "nbconvert_exporter": "python",
   "pygments_lexer": "ipython3",
   "version": "3.11.3"
  }
 },
 "nbformat": 4,
 "nbformat_minor": 5
}
